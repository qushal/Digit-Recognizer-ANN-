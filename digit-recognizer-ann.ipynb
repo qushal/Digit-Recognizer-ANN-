{
 "cells": [
  {
   "cell_type": "code",
   "execution_count": 1,
   "id": "ed2d1e4a",
   "metadata": {
    "_cell_guid": "b1076dfc-b9ad-4769-8c92-a6c4dae69d19",
    "_uuid": "8f2839f25d086af736a60e9eeb907d3b93b6e0e5",
    "execution": {
     "iopub.execute_input": "2025-08-02T20:20:03.467155Z",
     "iopub.status.busy": "2025-08-02T20:20:03.466719Z",
     "iopub.status.idle": "2025-08-02T20:20:05.489971Z",
     "shell.execute_reply": "2025-08-02T20:20:05.488931Z"
    },
    "papermill": {
     "duration": 2.032481,
     "end_time": "2025-08-02T20:20:05.491604",
     "exception": false,
     "start_time": "2025-08-02T20:20:03.459123",
     "status": "completed"
    },
    "tags": []
   },
   "outputs": [
    {
     "name": "stdout",
     "output_type": "stream",
     "text": [
      "/kaggle/input/digit-recognizer/sample_submission.csv\n",
      "/kaggle/input/digit-recognizer/train.csv\n",
      "/kaggle/input/digit-recognizer/test.csv\n"
     ]
    }
   ],
   "source": [
    "# This Python 3 environment comes with many helpful analytics libraries installed\n",
    "# It is defined by the kaggle/python Docker image: https://github.com/kaggle/docker-python\n",
    "# For example, here's several helpful packages to load\n",
    "\n",
    "import numpy as np # linear algebra\n",
    "import pandas as pd # data processing, CSV file I/O (e.g. pd.read_csv)\n",
    "\n",
    "# Input data files are available in the read-only \"../input/\" directory\n",
    "# For example, running this (by clicking run or pressing Shift+Enter) will list all files under the input directory\n",
    "\n",
    "import os\n",
    "for dirname, _, filenames in os.walk('/kaggle/input'):\n",
    "    for filename in filenames:\n",
    "        print(os.path.join(dirname, filename))\n",
    "\n",
    "# You can write up to 20GB to the current directory (/kaggle/working/) that gets preserved as output when you create a version using \"Save & Run All\" \n",
    "# You can also write temporary files to /kaggle/temp/, but they won't be saved outside of the current session"
   ]
  },
  {
   "cell_type": "code",
   "execution_count": 2,
   "id": "d53c850e",
   "metadata": {
    "execution": {
     "iopub.execute_input": "2025-08-02T20:20:05.504508Z",
     "iopub.status.busy": "2025-08-02T20:20:05.504025Z",
     "iopub.status.idle": "2025-08-02T20:20:07.516806Z",
     "shell.execute_reply": "2025-08-02T20:20:07.516002Z"
    },
    "papermill": {
     "duration": 2.021072,
     "end_time": "2025-08-02T20:20:07.518654",
     "exception": false,
     "start_time": "2025-08-02T20:20:05.497582",
     "status": "completed"
    },
    "tags": []
   },
   "outputs": [],
   "source": [
    "import numpy as np\n",
    "import pandas as pd\n",
    "import matplotlib.pyplot as plt\n",
    "import seaborn as sns"
   ]
  },
  {
   "cell_type": "code",
   "execution_count": 3,
   "id": "b4e9aa64",
   "metadata": {
    "execution": {
     "iopub.execute_input": "2025-08-02T20:20:07.531894Z",
     "iopub.status.busy": "2025-08-02T20:20:07.531345Z",
     "iopub.status.idle": "2025-08-02T20:20:11.016262Z",
     "shell.execute_reply": "2025-08-02T20:20:11.015044Z"
    },
    "papermill": {
     "duration": 3.49375,
     "end_time": "2025-08-02T20:20:11.018315",
     "exception": false,
     "start_time": "2025-08-02T20:20:07.524565",
     "status": "completed"
    },
    "tags": []
   },
   "outputs": [
    {
     "data": {
      "text/html": [
       "<div>\n",
       "<style scoped>\n",
       "    .dataframe tbody tr th:only-of-type {\n",
       "        vertical-align: middle;\n",
       "    }\n",
       "\n",
       "    .dataframe tbody tr th {\n",
       "        vertical-align: top;\n",
       "    }\n",
       "\n",
       "    .dataframe thead th {\n",
       "        text-align: right;\n",
       "    }\n",
       "</style>\n",
       "<table border=\"1\" class=\"dataframe\">\n",
       "  <thead>\n",
       "    <tr style=\"text-align: right;\">\n",
       "      <th></th>\n",
       "      <th>label</th>\n",
       "      <th>pixel0</th>\n",
       "      <th>pixel1</th>\n",
       "      <th>pixel2</th>\n",
       "      <th>pixel3</th>\n",
       "      <th>pixel4</th>\n",
       "      <th>pixel5</th>\n",
       "      <th>pixel6</th>\n",
       "      <th>pixel7</th>\n",
       "      <th>pixel8</th>\n",
       "      <th>...</th>\n",
       "      <th>pixel774</th>\n",
       "      <th>pixel775</th>\n",
       "      <th>pixel776</th>\n",
       "      <th>pixel777</th>\n",
       "      <th>pixel778</th>\n",
       "      <th>pixel779</th>\n",
       "      <th>pixel780</th>\n",
       "      <th>pixel781</th>\n",
       "      <th>pixel782</th>\n",
       "      <th>pixel783</th>\n",
       "    </tr>\n",
       "  </thead>\n",
       "  <tbody>\n",
       "    <tr>\n",
       "      <th>0</th>\n",
       "      <td>1</td>\n",
       "      <td>0</td>\n",
       "      <td>0</td>\n",
       "      <td>0</td>\n",
       "      <td>0</td>\n",
       "      <td>0</td>\n",
       "      <td>0</td>\n",
       "      <td>0</td>\n",
       "      <td>0</td>\n",
       "      <td>0</td>\n",
       "      <td>...</td>\n",
       "      <td>0</td>\n",
       "      <td>0</td>\n",
       "      <td>0</td>\n",
       "      <td>0</td>\n",
       "      <td>0</td>\n",
       "      <td>0</td>\n",
       "      <td>0</td>\n",
       "      <td>0</td>\n",
       "      <td>0</td>\n",
       "      <td>0</td>\n",
       "    </tr>\n",
       "    <tr>\n",
       "      <th>1</th>\n",
       "      <td>0</td>\n",
       "      <td>0</td>\n",
       "      <td>0</td>\n",
       "      <td>0</td>\n",
       "      <td>0</td>\n",
       "      <td>0</td>\n",
       "      <td>0</td>\n",
       "      <td>0</td>\n",
       "      <td>0</td>\n",
       "      <td>0</td>\n",
       "      <td>...</td>\n",
       "      <td>0</td>\n",
       "      <td>0</td>\n",
       "      <td>0</td>\n",
       "      <td>0</td>\n",
       "      <td>0</td>\n",
       "      <td>0</td>\n",
       "      <td>0</td>\n",
       "      <td>0</td>\n",
       "      <td>0</td>\n",
       "      <td>0</td>\n",
       "    </tr>\n",
       "  </tbody>\n",
       "</table>\n",
       "<p>2 rows × 785 columns</p>\n",
       "</div>"
      ],
      "text/plain": [
       "   label  pixel0  pixel1  pixel2  pixel3  pixel4  pixel5  pixel6  pixel7  \\\n",
       "0      1       0       0       0       0       0       0       0       0   \n",
       "1      0       0       0       0       0       0       0       0       0   \n",
       "\n",
       "   pixel8  ...  pixel774  pixel775  pixel776  pixel777  pixel778  pixel779  \\\n",
       "0       0  ...         0         0         0         0         0         0   \n",
       "1       0  ...         0         0         0         0         0         0   \n",
       "\n",
       "   pixel780  pixel781  pixel782  pixel783  \n",
       "0         0         0         0         0  \n",
       "1         0         0         0         0  \n",
       "\n",
       "[2 rows x 785 columns]"
      ]
     },
     "execution_count": 3,
     "metadata": {},
     "output_type": "execute_result"
    }
   ],
   "source": [
    "train = pd.read_csv('/kaggle/input/digit-recognizer/train.csv')\n",
    "train.head(2)\n"
   ]
  },
  {
   "cell_type": "code",
   "execution_count": 4,
   "id": "03e9be3e",
   "metadata": {
    "execution": {
     "iopub.execute_input": "2025-08-02T20:20:11.032806Z",
     "iopub.status.busy": "2025-08-02T20:20:11.032450Z",
     "iopub.status.idle": "2025-08-02T20:20:12.958237Z",
     "shell.execute_reply": "2025-08-02T20:20:12.957268Z"
    },
    "papermill": {
     "duration": 1.934714,
     "end_time": "2025-08-02T20:20:12.959805",
     "exception": false,
     "start_time": "2025-08-02T20:20:11.025091",
     "status": "completed"
    },
    "tags": []
   },
   "outputs": [
    {
     "data": {
      "text/html": [
       "<div>\n",
       "<style scoped>\n",
       "    .dataframe tbody tr th:only-of-type {\n",
       "        vertical-align: middle;\n",
       "    }\n",
       "\n",
       "    .dataframe tbody tr th {\n",
       "        vertical-align: top;\n",
       "    }\n",
       "\n",
       "    .dataframe thead th {\n",
       "        text-align: right;\n",
       "    }\n",
       "</style>\n",
       "<table border=\"1\" class=\"dataframe\">\n",
       "  <thead>\n",
       "    <tr style=\"text-align: right;\">\n",
       "      <th></th>\n",
       "      <th>pixel0</th>\n",
       "      <th>pixel1</th>\n",
       "      <th>pixel2</th>\n",
       "      <th>pixel3</th>\n",
       "      <th>pixel4</th>\n",
       "      <th>pixel5</th>\n",
       "      <th>pixel6</th>\n",
       "      <th>pixel7</th>\n",
       "      <th>pixel8</th>\n",
       "      <th>pixel9</th>\n",
       "      <th>...</th>\n",
       "      <th>pixel774</th>\n",
       "      <th>pixel775</th>\n",
       "      <th>pixel776</th>\n",
       "      <th>pixel777</th>\n",
       "      <th>pixel778</th>\n",
       "      <th>pixel779</th>\n",
       "      <th>pixel780</th>\n",
       "      <th>pixel781</th>\n",
       "      <th>pixel782</th>\n",
       "      <th>pixel783</th>\n",
       "    </tr>\n",
       "  </thead>\n",
       "  <tbody>\n",
       "    <tr>\n",
       "      <th>0</th>\n",
       "      <td>0</td>\n",
       "      <td>0</td>\n",
       "      <td>0</td>\n",
       "      <td>0</td>\n",
       "      <td>0</td>\n",
       "      <td>0</td>\n",
       "      <td>0</td>\n",
       "      <td>0</td>\n",
       "      <td>0</td>\n",
       "      <td>0</td>\n",
       "      <td>...</td>\n",
       "      <td>0</td>\n",
       "      <td>0</td>\n",
       "      <td>0</td>\n",
       "      <td>0</td>\n",
       "      <td>0</td>\n",
       "      <td>0</td>\n",
       "      <td>0</td>\n",
       "      <td>0</td>\n",
       "      <td>0</td>\n",
       "      <td>0</td>\n",
       "    </tr>\n",
       "    <tr>\n",
       "      <th>1</th>\n",
       "      <td>0</td>\n",
       "      <td>0</td>\n",
       "      <td>0</td>\n",
       "      <td>0</td>\n",
       "      <td>0</td>\n",
       "      <td>0</td>\n",
       "      <td>0</td>\n",
       "      <td>0</td>\n",
       "      <td>0</td>\n",
       "      <td>0</td>\n",
       "      <td>...</td>\n",
       "      <td>0</td>\n",
       "      <td>0</td>\n",
       "      <td>0</td>\n",
       "      <td>0</td>\n",
       "      <td>0</td>\n",
       "      <td>0</td>\n",
       "      <td>0</td>\n",
       "      <td>0</td>\n",
       "      <td>0</td>\n",
       "      <td>0</td>\n",
       "    </tr>\n",
       "  </tbody>\n",
       "</table>\n",
       "<p>2 rows × 784 columns</p>\n",
       "</div>"
      ],
      "text/plain": [
       "   pixel0  pixel1  pixel2  pixel3  pixel4  pixel5  pixel6  pixel7  pixel8  \\\n",
       "0       0       0       0       0       0       0       0       0       0   \n",
       "1       0       0       0       0       0       0       0       0       0   \n",
       "\n",
       "   pixel9  ...  pixel774  pixel775  pixel776  pixel777  pixel778  pixel779  \\\n",
       "0       0  ...         0         0         0         0         0         0   \n",
       "1       0  ...         0         0         0         0         0         0   \n",
       "\n",
       "   pixel780  pixel781  pixel782  pixel783  \n",
       "0         0         0         0         0  \n",
       "1         0         0         0         0  \n",
       "\n",
       "[2 rows x 784 columns]"
      ]
     },
     "execution_count": 4,
     "metadata": {},
     "output_type": "execute_result"
    }
   ],
   "source": [
    "test = pd.read_csv('/kaggle/input/digit-recognizer/test.csv')\n",
    "test.head(2)"
   ]
  },
  {
   "cell_type": "code",
   "execution_count": 5,
   "id": "7c9b738b",
   "metadata": {
    "execution": {
     "iopub.execute_input": "2025-08-02T20:20:12.973538Z",
     "iopub.status.busy": "2025-08-02T20:20:12.973208Z",
     "iopub.status.idle": "2025-08-02T20:20:12.979051Z",
     "shell.execute_reply": "2025-08-02T20:20:12.978119Z"
    },
    "papermill": {
     "duration": 0.014268,
     "end_time": "2025-08-02T20:20:12.980555",
     "exception": false,
     "start_time": "2025-08-02T20:20:12.966287",
     "status": "completed"
    },
    "tags": []
   },
   "outputs": [
    {
     "data": {
      "text/plain": [
       "(42000, 785)"
      ]
     },
     "execution_count": 5,
     "metadata": {},
     "output_type": "execute_result"
    }
   ],
   "source": [
    "train.shape"
   ]
  },
  {
   "cell_type": "code",
   "execution_count": 6,
   "id": "61ea9b93",
   "metadata": {
    "execution": {
     "iopub.execute_input": "2025-08-02T20:20:12.994215Z",
     "iopub.status.busy": "2025-08-02T20:20:12.993474Z",
     "iopub.status.idle": "2025-08-02T20:20:13.396570Z",
     "shell.execute_reply": "2025-08-02T20:20:13.395206Z"
    },
    "papermill": {
     "duration": 0.41181,
     "end_time": "2025-08-02T20:20:13.398386",
     "exception": false,
     "start_time": "2025-08-02T20:20:12.986576",
     "status": "completed"
    },
    "tags": []
   },
   "outputs": [
    {
     "data": {
      "text/plain": [
       "<matplotlib.image.AxesImage at 0x7ff73af83910>"
      ]
     },
     "execution_count": 6,
     "metadata": {},
     "output_type": "execute_result"
    },
    {
     "data": {
      "image/png": "[encoded data removed]",
      "text/plain": [
       "<Figure size 640x480 with 1 Axes>"
      ]
     },
     "metadata": {},
     "output_type": "display_data"
    }
   ],
   "source": [
    "plt.imshow(train.iloc[0, 1:].values.reshape(28,28))"
   ]
  },
  {
   "cell_type": "code",
   "execution_count": 7,
   "id": "7ba3c56d",
   "metadata": {
    "execution": {
     "iopub.execute_input": "2025-08-02T20:20:13.413310Z",
     "iopub.status.busy": "2025-08-02T20:20:13.412953Z",
     "iopub.status.idle": "2025-08-02T20:20:13.422756Z",
     "shell.execute_reply": "2025-08-02T20:20:13.421693Z"
    },
    "papermill": {
     "duration": 0.019764,
     "end_time": "2025-08-02T20:20:13.425329",
     "exception": false,
     "start_time": "2025-08-02T20:20:13.405565",
     "status": "completed"
    },
    "tags": []
   },
   "outputs": [
    {
     "data": {
      "text/plain": [
       "0        1\n",
       "1        0\n",
       "2        1\n",
       "3        4\n",
       "4        0\n",
       "        ..\n",
       "41995    0\n",
       "41996    1\n",
       "41997    7\n",
       "41998    6\n",
       "41999    9\n",
       "Name: label, Length: 42000, dtype: int64"
      ]
     },
     "execution_count": 7,
     "metadata": {},
     "output_type": "execute_result"
    }
   ],
   "source": [
    "train['label']\n",
    "\n",
    "# this is outcome or predicted data"
   ]
  },
  {
   "cell_type": "markdown",
   "id": "e274d14e",
   "metadata": {
    "papermill": {
     "duration": 0.006743,
     "end_time": "2025-08-02T20:20:13.440114",
     "exception": false,
     "start_time": "2025-08-02T20:20:13.433371",
     "status": "completed"
    },
    "tags": []
   },
   "source": [
    "# Train test split"
   ]
  },
  {
   "cell_type": "code",
   "execution_count": 8,
   "id": "946f0daf",
   "metadata": {
    "execution": {
     "iopub.execute_input": "2025-08-02T20:20:13.454970Z",
     "iopub.status.busy": "2025-08-02T20:20:13.454574Z",
     "iopub.status.idle": "2025-08-02T20:20:13.780972Z",
     "shell.execute_reply": "2025-08-02T20:20:13.779883Z"
    },
    "papermill": {
     "duration": 0.336385,
     "end_time": "2025-08-02T20:20:13.782958",
     "exception": false,
     "start_time": "2025-08-02T20:20:13.446573",
     "status": "completed"
    },
    "tags": []
   },
   "outputs": [],
   "source": [
    "from sklearn.model_selection import train_test_split"
   ]
  },
  {
   "cell_type": "code",
   "execution_count": 9,
   "id": "3a6954e8",
   "metadata": {
    "execution": {
     "iopub.execute_input": "2025-08-02T20:20:13.798015Z",
     "iopub.status.busy": "2025-08-02T20:20:13.797663Z",
     "iopub.status.idle": "2025-08-02T20:20:14.420259Z",
     "shell.execute_reply": "2025-08-02T20:20:14.419213Z"
    },
    "papermill": {
     "duration": 0.632507,
     "end_time": "2025-08-02T20:20:14.422052",
     "exception": false,
     "start_time": "2025-08-02T20:20:13.789545",
     "status": "completed"
    },
    "tags": []
   },
   "outputs": [],
   "source": [
    "x = train.drop('label', axis = 1).values\n",
    "y = train['label'].values\n",
    "x_train, x_test, y_train, y_test = train_test_split(x, y, test_size = 0.2, random_state = 101)"
   ]
  },
  {
   "cell_type": "code",
   "execution_count": 10,
   "id": "c8cc5199",
   "metadata": {
    "execution": {
     "iopub.execute_input": "2025-08-02T20:20:14.438019Z",
     "iopub.status.busy": "2025-08-02T20:20:14.437645Z",
     "iopub.status.idle": "2025-08-02T20:20:14.443534Z",
     "shell.execute_reply": "2025-08-02T20:20:14.442576Z"
    },
    "papermill": {
     "duration": 0.014918,
     "end_time": "2025-08-02T20:20:14.444920",
     "exception": false,
     "start_time": "2025-08-02T20:20:14.430002",
     "status": "completed"
    },
    "tags": []
   },
   "outputs": [
    {
     "name": "stdout",
     "output_type": "stream",
     "text": [
      "(42000, 784) and (42000,)\n"
     ]
    }
   ],
   "source": [
    "print(x.shape, 'and', y.shape)"
   ]
  },
  {
   "cell_type": "code",
   "execution_count": 11,
   "id": "63378f6c",
   "metadata": {
    "execution": {
     "iopub.execute_input": "2025-08-02T20:20:14.459417Z",
     "iopub.status.busy": "2025-08-02T20:20:14.459116Z",
     "iopub.status.idle": "2025-08-02T20:20:14.474454Z",
     "shell.execute_reply": "2025-08-02T20:20:14.473448Z"
    },
    "papermill": {
     "duration": 0.024756,
     "end_time": "2025-08-02T20:20:14.476199",
     "exception": false,
     "start_time": "2025-08-02T20:20:14.451443",
     "status": "completed"
    },
    "tags": []
   },
   "outputs": [],
   "source": [
    "from sklearn.preprocessing import OneHotEncoder\n",
    "ohe = OneHotEncoder(sparse_output=False) \n",
    "y_train_encoded = ohe.fit_transform(pd.DataFrame(y_train))\n",
    "y_test_encoded = ohe.transform(pd.DataFrame(y_test))"
   ]
  },
  {
   "cell_type": "code",
   "execution_count": 12,
   "id": "93c0e580",
   "metadata": {
    "execution": {
     "iopub.execute_input": "2025-08-02T20:20:14.490443Z",
     "iopub.status.busy": "2025-08-02T20:20:14.490135Z",
     "iopub.status.idle": "2025-08-02T20:20:14.495982Z",
     "shell.execute_reply": "2025-08-02T20:20:14.495011Z"
    },
    "papermill": {
     "duration": 0.014932,
     "end_time": "2025-08-02T20:20:14.497576",
     "exception": false,
     "start_time": "2025-08-02T20:20:14.482644",
     "status": "completed"
    },
    "tags": []
   },
   "outputs": [
    {
     "data": {
      "text/plain": [
       "(33600,)"
      ]
     },
     "execution_count": 12,
     "metadata": {},
     "output_type": "execute_result"
    }
   ],
   "source": [
    "y_train.shape"
   ]
  },
  {
   "cell_type": "code",
   "execution_count": 13,
   "id": "edf331ca",
   "metadata": {
    "execution": {
     "iopub.execute_input": "2025-08-02T20:20:14.512229Z",
     "iopub.status.busy": "2025-08-02T20:20:14.511820Z",
     "iopub.status.idle": "2025-08-02T20:20:14.517938Z",
     "shell.execute_reply": "2025-08-02T20:20:14.516960Z"
    },
    "papermill": {
     "duration": 0.015158,
     "end_time": "2025-08-02T20:20:14.519483",
     "exception": false,
     "start_time": "2025-08-02T20:20:14.504325",
     "status": "completed"
    },
    "tags": []
   },
   "outputs": [
    {
     "data": {
      "text/plain": [
       "(33600, 10)"
      ]
     },
     "execution_count": 13,
     "metadata": {},
     "output_type": "execute_result"
    }
   ],
   "source": [
    "y_train_encoded.shape \n",
    "# categories 0-9 (total 10)"
   ]
  },
  {
   "cell_type": "markdown",
   "id": "baec53f6",
   "metadata": {
    "papermill": {
     "duration": 0.006279,
     "end_time": "2025-08-02T20:20:14.532286",
     "exception": false,
     "start_time": "2025-08-02T20:20:14.526007",
     "status": "completed"
    },
    "tags": []
   },
   "source": [
    "# Scaling the image pixels b/w 0 to 1"
   ]
  },
  {
   "cell_type": "code",
   "execution_count": 14,
   "id": "465523e2",
   "metadata": {
    "execution": {
     "iopub.execute_input": "2025-08-02T20:20:14.546438Z",
     "iopub.status.busy": "2025-08-02T20:20:14.546125Z",
     "iopub.status.idle": "2025-08-02T20:20:14.595018Z",
     "shell.execute_reply": "2025-08-02T20:20:14.593978Z"
    },
    "papermill": {
     "duration": 0.05807,
     "end_time": "2025-08-02T20:20:14.596815",
     "exception": false,
     "start_time": "2025-08-02T20:20:14.538745",
     "status": "completed"
    },
    "tags": []
   },
   "outputs": [
    {
     "name": "stdout",
     "output_type": "stream",
     "text": [
      "255 and 0\n"
     ]
    }
   ],
   "source": [
    "print(x_train.max(), 'and', x_train.min())"
   ]
  },
  {
   "cell_type": "code",
   "execution_count": 15,
   "id": "e01db652",
   "metadata": {
    "execution": {
     "iopub.execute_input": "2025-08-02T20:20:14.612948Z",
     "iopub.status.busy": "2025-08-02T20:20:14.611808Z",
     "iopub.status.idle": "2025-08-02T20:20:14.801287Z",
     "shell.execute_reply": "2025-08-02T20:20:14.800306Z"
    },
    "papermill": {
     "duration": 0.199044,
     "end_time": "2025-08-02T20:20:14.803245",
     "exception": false,
     "start_time": "2025-08-02T20:20:14.604201",
     "status": "completed"
    },
    "tags": []
   },
   "outputs": [],
   "source": [
    "x_train = x_train/255\n",
    "x_test = x_test/255\n"
   ]
  },
  {
   "cell_type": "markdown",
   "id": "8682bf06",
   "metadata": {
    "papermill": {
     "duration": 0.006358,
     "end_time": "2025-08-02T20:20:14.816250",
     "exception": false,
     "start_time": "2025-08-02T20:20:14.809892",
     "status": "completed"
    },
    "tags": []
   },
   "source": [
    "# Deep learning"
   ]
  },
  {
   "cell_type": "code",
   "execution_count": 16,
   "id": "081f8128",
   "metadata": {
    "execution": {
     "iopub.execute_input": "2025-08-02T20:20:14.833280Z",
     "iopub.status.busy": "2025-08-02T20:20:14.831813Z",
     "iopub.status.idle": "2025-08-02T20:20:32.675957Z",
     "shell.execute_reply": "2025-08-02T20:20:32.674924Z"
    },
    "papermill": {
     "duration": 17.854901,
     "end_time": "2025-08-02T20:20:32.677913",
     "exception": false,
     "start_time": "2025-08-02T20:20:14.823012",
     "status": "completed"
    },
    "tags": []
   },
   "outputs": [
    {
     "name": "stderr",
     "output_type": "stream",
     "text": [
      "2025-08-02 20:20:16.799893: E external/local_xla/xla/stream_executor/cuda/cuda_fft.cc:477] Unable to register cuFFT factory: Attempting to register factory for plugin cuFFT when one has already been registered\n",
      "WARNING: All log messages before absl::InitializeLog() is called are written to STDERR\n",
      "E0000 00:00:1754166017.048763      13 cuda_dnn.cc:8310] Unable to register cuDNN factory: Attempting to register factory for plugin cuDNN when one has already been registered\n",
      "E0000 00:00:1754166017.129916      13 cuda_blas.cc:1418] Unable to register cuBLAS factory: Attempting to register factory for plugin cuBLAS when one has already been registered\n"
     ]
    }
   ],
   "source": [
    "from tensorflow.keras.models import Sequential\n",
    "from tensorflow.keras.layers import Dense\n",
    "\n",
    "model = Sequential()"
   ]
  },
  {
   "cell_type": "code",
   "execution_count": 17,
   "id": "3ba685be",
   "metadata": {
    "execution": {
     "iopub.execute_input": "2025-08-02T20:20:32.693462Z",
     "iopub.status.busy": "2025-08-02T20:20:32.692843Z",
     "iopub.status.idle": "2025-08-02T20:20:32.699553Z",
     "shell.execute_reply": "2025-08-02T20:20:32.698407Z"
    },
    "papermill": {
     "duration": 0.016436,
     "end_time": "2025-08-02T20:20:32.701473",
     "exception": false,
     "start_time": "2025-08-02T20:20:32.685037",
     "status": "completed"
    },
    "tags": []
   },
   "outputs": [
    {
     "data": {
      "text/plain": [
       "(33600, 784)"
      ]
     },
     "execution_count": 17,
     "metadata": {},
     "output_type": "execute_result"
    }
   ],
   "source": [
    "x_train.shape"
   ]
  },
  {
   "cell_type": "code",
   "execution_count": 18,
   "id": "8563f2a9",
   "metadata": {
    "execution": {
     "iopub.execute_input": "2025-08-02T20:20:32.716927Z",
     "iopub.status.busy": "2025-08-02T20:20:32.716535Z",
     "iopub.status.idle": "2025-08-02T20:20:32.843136Z",
     "shell.execute_reply": "2025-08-02T20:20:32.841840Z"
    },
    "papermill": {
     "duration": 0.136229,
     "end_time": "2025-08-02T20:20:32.844744",
     "exception": false,
     "start_time": "2025-08-02T20:20:32.708515",
     "status": "completed"
    },
    "tags": []
   },
   "outputs": [
    {
     "name": "stderr",
     "output_type": "stream",
     "text": [
      "/usr/local/lib/python3.11/dist-packages/keras/src/layers/core/dense.py:87: UserWarning: Do not pass an `input_shape`/`input_dim` argument to a layer. When using Sequential models, prefer using an `Input(shape)` object as the first layer in the model instead.\n",
      "  super().__init__(activity_regularizer=activity_regularizer, **kwargs)\n",
      "2025-08-02 20:20:32.726605: E external/local_xla/xla/stream_executor/cuda/cuda_driver.cc:152] failed call to cuInit: INTERNAL: CUDA error: Failed call to cuInit: UNKNOWN ERROR (303)\n"
     ]
    }
   ],
   "source": [
    "model.add(Dense(128,'relu',input_shape=(784,)))\n",
    "model.add(Dense(64,'relu'))\n",
    "model.add(Dense(32,'relu'))\n",
    "model.add(Dense(10,'softmax'))\n",
    "\n",
    "model.compile(optimizer='adam',loss='categorical_crossentropy', metrics=['accuracy'])"
   ]
  },
  {
   "cell_type": "code",
   "execution_count": 19,
   "id": "9c0502c1",
   "metadata": {
    "execution": {
     "iopub.execute_input": "2025-08-02T20:20:32.860001Z",
     "iopub.status.busy": "2025-08-02T20:20:32.859554Z",
     "iopub.status.idle": "2025-08-02T20:20:32.877393Z",
     "shell.execute_reply": "2025-08-02T20:20:32.876517Z"
    },
    "papermill": {
     "duration": 0.026974,
     "end_time": "2025-08-02T20:20:32.878876",
     "exception": false,
     "start_time": "2025-08-02T20:20:32.851902",
     "status": "completed"
    },
    "tags": []
   },
   "outputs": [
    {
     "data": {
      "text/html": [
       "<pre style=\"white-space:pre;overflow-x:auto;line-height:normal;font-family:Menlo,'DejaVu Sans Mono',consolas,'Courier New',monospace\"><span style=\"font-weight: bold\">Model: \"sequential\"</span>\n",
       "</pre>\n"
      ],
      "text/plain": [
       "\u001b[1mModel: \"sequential\"\u001b[0m\n"
      ]
     },
     "metadata": {},
     "output_type": "display_data"
    },
    {
     "data": {
      "text/html": [
       "<pre style=\"white-space:pre;overflow-x:auto;line-height:normal;font-family:Menlo,'DejaVu Sans Mono',consolas,'Courier New',monospace\">┏━━━━━━━━━━━━━━━━━━━━━━━━━━━━━━━━━┳━━━━━━━━━━━━━━━━━━━━━━━━┳━━━━━━━━━━━━━━━┓\n",
       "┃<span style=\"font-weight: bold\"> Layer (type)                    </span>┃<span style=\"font-weight: bold\"> Output Shape           </span>┃<span style=\"font-weight: bold\">       Param # </span>┃\n",
       "┡━━━━━━━━━━━━━━━━━━━━━━━━━━━━━━━━━╇━━━━━━━━━━━━━━━━━━━━━━━━╇━━━━━━━━━━━━━━━┩\n",
       "│ dense (<span style=\"color: #0087ff; text-decoration-color: #0087ff\">Dense</span>)                   │ (<span style=\"color: #00d7ff; text-decoration-color: #00d7ff\">None</span>, <span style=\"color: #00af00; text-decoration-color: #00af00\">128</span>)            │       <span style=\"color: #00af00; text-decoration-color: #00af00\">100,480</span> │\n",
       "├─────────────────────────────────┼────────────────────────┼───────────────┤\n",
       "│ dense_1 (<span style=\"color: #0087ff; text-decoration-color: #0087ff\">Dense</span>)                 │ (<span style=\"color: #00d7ff; text-decoration-color: #00d7ff\">None</span>, <span style=\"color: #00af00; text-decoration-color: #00af00\">64</span>)             │         <span style=\"color: #00af00; text-decoration-color: #00af00\">8,256</span> │\n",
       "├─────────────────────────────────┼────────────────────────┼───────────────┤\n",
       "│ dense_2 (<span style=\"color: #0087ff; text-decoration-color: #0087ff\">Dense</span>)                 │ (<span style=\"color: #00d7ff; text-decoration-color: #00d7ff\">None</span>, <span style=\"color: #00af00; text-decoration-color: #00af00\">32</span>)             │         <span style=\"color: #00af00; text-decoration-color: #00af00\">2,080</span> │\n",
       "├─────────────────────────────────┼────────────────────────┼───────────────┤\n",
       "│ dense_3 (<span style=\"color: #0087ff; text-decoration-color: #0087ff\">Dense</span>)                 │ (<span style=\"color: #00d7ff; text-decoration-color: #00d7ff\">None</span>, <span style=\"color: #00af00; text-decoration-color: #00af00\">10</span>)             │           <span style=\"color: #00af00; text-decoration-color: #00af00\">330</span> │\n",
       "└─────────────────────────────────┴────────────────────────┴───────────────┘\n",
       "</pre>\n"
      ],
      "text/plain": [
       "┏━━━━━━━━━━━━━━━━━━━━━━━━━━━━━━━━━┳━━━━━━━━━━━━━━━━━━━━━━━━┳━━━━━━━━━━━━━━━┓\n",
       "┃\u001b[1m \u001b[0m\u001b[1mLayer (type)                   \u001b[0m\u001b[1m \u001b[0m┃\u001b[1m \u001b[0m\u001b[1mOutput Shape          \u001b[0m\u001b[1m \u001b[0m┃\u001b[1m \u001b[0m\u001b[1m      Param #\u001b[0m\u001b[1m \u001b[0m┃\n",
       "┡━━━━━━━━━━━━━━━━━━━━━━━━━━━━━━━━━╇━━━━━━━━━━━━━━━━━━━━━━━━╇━━━━━━━━━━━━━━━┩\n",
       "│ dense (\u001b[38;5;33mDense\u001b[0m)                   │ (\u001b[38;5;45mNone\u001b[0m, \u001b[38;5;34m128\u001b[0m)            │       \u001b[38;5;34m100,480\u001b[0m │\n",
       "├─────────────────────────────────┼────────────────────────┼───────────────┤\n",
       "│ dense_1 (\u001b[38;5;33mDense\u001b[0m)                 │ (\u001b[38;5;45mNone\u001b[0m, \u001b[38;5;34m64\u001b[0m)             │         \u001b[38;5;34m8,256\u001b[0m │\n",
       "├─────────────────────────────────┼────────────────────────┼───────────────┤\n",
       "│ dense_2 (\u001b[38;5;33mDense\u001b[0m)                 │ (\u001b[38;5;45mNone\u001b[0m, \u001b[38;5;34m32\u001b[0m)             │         \u001b[38;5;34m2,080\u001b[0m │\n",
       "├─────────────────────────────────┼────────────────────────┼───────────────┤\n",
       "│ dense_3 (\u001b[38;5;33mDense\u001b[0m)                 │ (\u001b[38;5;45mNone\u001b[0m, \u001b[38;5;34m10\u001b[0m)             │           \u001b[38;5;34m330\u001b[0m │\n",
       "└─────────────────────────────────┴────────────────────────┴───────────────┘\n"
      ]
     },
     "metadata": {},
     "output_type": "display_data"
    },
    {
     "data": {
      "text/html": [
       "<pre style=\"white-space:pre;overflow-x:auto;line-height:normal;font-family:Menlo,'DejaVu Sans Mono',consolas,'Courier New',monospace\"><span style=\"font-weight: bold\"> Total params: </span><span style=\"color: #00af00; text-decoration-color: #00af00\">111,146</span> (434.16 KB)\n",
       "</pre>\n"
      ],
      "text/plain": [
       "\u001b[1m Total params: \u001b[0m\u001b[38;5;34m111,146\u001b[0m (434.16 KB)\n"
      ]
     },
     "metadata": {},
     "output_type": "display_data"
    },
    {
     "data": {
      "text/html": [
       "<pre style=\"white-space:pre;overflow-x:auto;line-height:normal;font-family:Menlo,'DejaVu Sans Mono',consolas,'Courier New',monospace\"><span style=\"font-weight: bold\"> Trainable params: </span><span style=\"color: #00af00; text-decoration-color: #00af00\">111,146</span> (434.16 KB)\n",
       "</pre>\n"
      ],
      "text/plain": [
       "\u001b[1m Trainable params: \u001b[0m\u001b[38;5;34m111,146\u001b[0m (434.16 KB)\n"
      ]
     },
     "metadata": {},
     "output_type": "display_data"
    },
    {
     "data": {
      "text/html": [
       "<pre style=\"white-space:pre;overflow-x:auto;line-height:normal;font-family:Menlo,'DejaVu Sans Mono',consolas,'Courier New',monospace\"><span style=\"font-weight: bold\"> Non-trainable params: </span><span style=\"color: #00af00; text-decoration-color: #00af00\">0</span> (0.00 B)\n",
       "</pre>\n"
      ],
      "text/plain": [
       "\u001b[1m Non-trainable params: \u001b[0m\u001b[38;5;34m0\u001b[0m (0.00 B)\n"
      ]
     },
     "metadata": {},
     "output_type": "display_data"
    }
   ],
   "source": [
    "model.summary()"
   ]
  },
  {
   "cell_type": "code",
   "execution_count": 20,
   "id": "38c205f1",
   "metadata": {
    "execution": {
     "iopub.execute_input": "2025-08-02T20:20:32.895674Z",
     "iopub.status.busy": "2025-08-02T20:20:32.894704Z",
     "iopub.status.idle": "2025-08-02T20:20:32.902783Z",
     "shell.execute_reply": "2025-08-02T20:20:32.901738Z"
    },
    "papermill": {
     "duration": 0.017971,
     "end_time": "2025-08-02T20:20:32.904418",
     "exception": false,
     "start_time": "2025-08-02T20:20:32.886447",
     "status": "completed"
    },
    "tags": []
   },
   "outputs": [],
   "source": [
    "from tensorflow.keras.callbacks import EarlyStopping\n",
    "early_stop = EarlyStopping(mode = 'min', patience = 2)"
   ]
  },
  {
   "cell_type": "code",
   "execution_count": 21,
   "id": "98363d94",
   "metadata": {
    "execution": {
     "iopub.execute_input": "2025-08-02T20:20:32.929772Z",
     "iopub.status.busy": "2025-08-02T20:20:32.929431Z",
     "iopub.status.idle": "2025-08-02T20:20:32.934295Z",
     "shell.execute_reply": "2025-08-02T20:20:32.933405Z"
    },
    "papermill": {
     "duration": 0.015662,
     "end_time": "2025-08-02T20:20:32.936029",
     "exception": false,
     "start_time": "2025-08-02T20:20:32.920367",
     "status": "completed"
    },
    "tags": []
   },
   "outputs": [],
   "source": [
    "#model.fit(x_train, y_train_encoded, validation_data = (x_test, y_test_encoded), epochs = 20)"
   ]
  },
  {
   "cell_type": "code",
   "execution_count": 22,
   "id": "a13c15fe",
   "metadata": {
    "execution": {
     "iopub.execute_input": "2025-08-02T20:20:32.952687Z",
     "iopub.status.busy": "2025-08-02T20:20:32.952390Z",
     "iopub.status.idle": "2025-08-02T20:21:02.741782Z",
     "shell.execute_reply": "2025-08-02T20:21:02.740987Z"
    },
    "papermill": {
     "duration": 29.799061,
     "end_time": "2025-08-02T20:21:02.743441",
     "exception": false,
     "start_time": "2025-08-02T20:20:32.944380",
     "status": "completed"
    },
    "tags": []
   },
   "outputs": [
    {
     "name": "stdout",
     "output_type": "stream",
     "text": [
      "Epoch 1/20\n",
      "\u001b[1m1050/1050\u001b[0m \u001b[32m━━━━━━━━━━━━━━━━━━━━\u001b[0m\u001b[37m\u001b[0m \u001b[1m7s\u001b[0m 5ms/step - accuracy: 0.8210 - loss: 0.5692 - val_accuracy: 0.9463 - val_loss: 0.1832\n",
      "Epoch 2/20\n",
      "\u001b[1m1050/1050\u001b[0m \u001b[32m━━━━━━━━━━━━━━━━━━━━\u001b[0m\u001b[37m\u001b[0m \u001b[1m5s\u001b[0m 4ms/step - accuracy: 0.9615 - loss: 0.1277 - val_accuracy: 0.9570 - val_loss: 0.1347\n",
      "Epoch 3/20\n",
      "\u001b[1m1050/1050\u001b[0m \u001b[32m━━━━━━━━━━━━━━━━━━━━\u001b[0m\u001b[37m\u001b[0m \u001b[1m5s\u001b[0m 4ms/step - accuracy: 0.9733 - loss: 0.0867 - val_accuracy: 0.9661 - val_loss: 0.1170\n",
      "Epoch 4/20\n",
      "\u001b[1m1050/1050\u001b[0m \u001b[32m━━━━━━━━━━━━━━━━━━━━\u001b[0m\u001b[37m\u001b[0m \u001b[1m4s\u001b[0m 4ms/step - accuracy: 0.9793 - loss: 0.0631 - val_accuracy: 0.9685 - val_loss: 0.1061\n",
      "Epoch 5/20\n",
      "\u001b[1m1050/1050\u001b[0m \u001b[32m━━━━━━━━━━━━━━━━━━━━\u001b[0m\u001b[37m\u001b[0m \u001b[1m4s\u001b[0m 4ms/step - accuracy: 0.9844 - loss: 0.0465 - val_accuracy: 0.9649 - val_loss: 0.1172\n",
      "Epoch 6/20\n",
      "\u001b[1m1050/1050\u001b[0m \u001b[32m━━━━━━━━━━━━━━━━━━━━\u001b[0m\u001b[37m\u001b[0m \u001b[1m4s\u001b[0m 4ms/step - accuracy: 0.9864 - loss: 0.0414 - val_accuracy: 0.9685 - val_loss: 0.1141\n"
     ]
    },
    {
     "data": {
      "text/plain": [
       "<keras.src.callbacks.history.History at 0x7ff6a367d750>"
      ]
     },
     "execution_count": 22,
     "metadata": {},
     "output_type": "execute_result"
    }
   ],
   "source": [
    "model.fit(x_train,y_train_encoded,validation_data=(x_test,y_test_encoded),epochs=20,callbacks=[early_stop])"
   ]
  },
  {
   "cell_type": "code",
   "execution_count": 23,
   "id": "04b20893",
   "metadata": {
    "execution": {
     "iopub.execute_input": "2025-08-02T20:21:02.805468Z",
     "iopub.status.busy": "2025-08-02T20:21:02.805098Z",
     "iopub.status.idle": "2025-08-02T20:21:03.138379Z",
     "shell.execute_reply": "2025-08-02T20:21:03.137373Z"
    },
    "papermill": {
     "duration": 0.36558,
     "end_time": "2025-08-02T20:21:03.139959",
     "exception": false,
     "start_time": "2025-08-02T20:21:02.774379",
     "status": "completed"
    },
    "tags": []
   },
   "outputs": [
    {
     "data": {
      "image/png": "[encoded data removed]",
      "text/plain": [
       "<Figure size 800x300 with 2 Axes>"
      ]
     },
     "metadata": {},
     "output_type": "display_data"
    }
   ],
   "source": [
    "plt.figure(figsize = (8,3))\n",
    "epochs = range(1,len(model.history.history['loss'])+1)\n",
    "plt.subplot(1,2,1)\n",
    "plt.plot(epochs, model.history.history['loss'], label='Training Loss', color = 'red')\n",
    "plt.xlabel('Epochs')\n",
    "plt.ylabel('Loss')\n",
    "plt.title('Training Loss Across Epochs')\n",
    "plt.legend()\n",
    "\n",
    "plt.subplot(1,2,2)\n",
    "plt.plot(epochs, model.history.history['accuracy'], label='Training Loss', color = 'blue')\n",
    "plt.xlabel('Epochs')\n",
    "plt.ylabel('Loss')\n",
    "plt.title('Training Loss Across Epochs')\n",
    "plt.legend()\n",
    "\n",
    "plt.subplot\n",
    "plt.show()"
   ]
  },
  {
   "cell_type": "code",
   "execution_count": 24,
   "id": "27411fed",
   "metadata": {
    "execution": {
     "iopub.execute_input": "2025-08-02T20:21:03.274171Z",
     "iopub.status.busy": "2025-08-02T20:21:03.273146Z",
     "iopub.status.idle": "2025-08-02T20:21:03.540281Z",
     "shell.execute_reply": "2025-08-02T20:21:03.539165Z"
    },
    "papermill": {
     "duration": 0.300856,
     "end_time": "2025-08-02T20:21:03.541890",
     "exception": false,
     "start_time": "2025-08-02T20:21:03.241034",
     "status": "completed"
    },
    "tags": []
   },
   "outputs": [
    {
     "data": {
      "text/plain": [
       "<Axes: >"
      ]
     },
     "execution_count": 24,
     "metadata": {},
     "output_type": "execute_result"
    },
    {
     "data": {
      "image/png": "[encoded data removed]",
      "text/plain": [
       "<Figure size 640x480 with 1 Axes>"
      ]
     },
     "metadata": {},
     "output_type": "display_data"
    }
   ],
   "source": [
    "pd.DataFrame({\n",
    "    'val_accuracy':model.history.history['val_accuracy'],\n",
    "    'accuracy':model.history.history['accuracy']\n",
    "}).plot()"
   ]
  },
  {
   "cell_type": "code",
   "execution_count": 25,
   "id": "0543b7ec",
   "metadata": {
    "execution": {
     "iopub.execute_input": "2025-08-02T20:21:03.605255Z",
     "iopub.status.busy": "2025-08-02T20:21:03.604935Z",
     "iopub.status.idle": "2025-08-02T20:21:04.339781Z",
     "shell.execute_reply": "2025-08-02T20:21:04.338802Z"
    },
    "papermill": {
     "duration": 0.768615,
     "end_time": "2025-08-02T20:21:04.341579",
     "exception": false,
     "start_time": "2025-08-02T20:21:03.572964",
     "status": "completed"
    },
    "tags": []
   },
   "outputs": [
    {
     "name": "stdout",
     "output_type": "stream",
     "text": [
      "\u001b[1m263/263\u001b[0m \u001b[32m━━━━━━━━━━━━━━━━━━━━\u001b[0m\u001b[37m\u001b[0m \u001b[1m1s\u001b[0m 2ms/step\n"
     ]
    }
   ],
   "source": [
    "prediction = np.argmax(model.predict(x_test), axis = 1)"
   ]
  },
  {
   "cell_type": "code",
   "execution_count": 26,
   "id": "6ea204f7",
   "metadata": {
    "execution": {
     "iopub.execute_input": "2025-08-02T20:21:04.408636Z",
     "iopub.status.busy": "2025-08-02T20:21:04.407716Z",
     "iopub.status.idle": "2025-08-02T20:21:04.412480Z",
     "shell.execute_reply": "2025-08-02T20:21:04.411555Z"
    },
    "papermill": {
     "duration": 0.039616,
     "end_time": "2025-08-02T20:21:04.413811",
     "exception": false,
     "start_time": "2025-08-02T20:21:04.374195",
     "status": "completed"
    },
    "tags": []
   },
   "outputs": [],
   "source": [
    "from sklearn.metrics import classification_report,confusion_matrix,ConfusionMatrixDisplay"
   ]
  },
  {
   "cell_type": "code",
   "execution_count": 27,
   "id": "0cb08b3e",
   "metadata": {
    "execution": {
     "iopub.execute_input": "2025-08-02T20:21:04.483737Z",
     "iopub.status.busy": "2025-08-02T20:21:04.483438Z",
     "iopub.status.idle": "2025-08-02T20:21:04.511832Z",
     "shell.execute_reply": "2025-08-02T20:21:04.510569Z"
    },
    "papermill": {
     "duration": 0.065718,
     "end_time": "2025-08-02T20:21:04.513336",
     "exception": false,
     "start_time": "2025-08-02T20:21:04.447618",
     "status": "completed"
    },
    "tags": []
   },
   "outputs": [
    {
     "name": "stdout",
     "output_type": "stream",
     "text": [
      "              precision    recall  f1-score   support\n",
      "\n",
      "           0       0.98      0.99      0.98       789\n",
      "           1       0.99      0.98      0.99       948\n",
      "           2       0.97      0.97      0.97       859\n",
      "           3       0.96      0.96      0.96       859\n",
      "           4       0.96      0.98      0.97       818\n",
      "           5       0.96      0.97      0.96       733\n",
      "           6       0.97      0.99      0.98       824\n",
      "           7       0.95      0.99      0.97       873\n",
      "           8       0.96      0.96      0.96       820\n",
      "           9       0.99      0.90      0.94       877\n",
      "\n",
      "    accuracy                           0.97      8400\n",
      "   macro avg       0.97      0.97      0.97      8400\n",
      "weighted avg       0.97      0.97      0.97      8400\n",
      "\n"
     ]
    }
   ],
   "source": [
    "print(classification_report(y_test,prediction))"
   ]
  },
  {
   "cell_type": "code",
   "execution_count": 28,
   "id": "f61da449",
   "metadata": {
    "execution": {
     "iopub.execute_input": "2025-08-02T20:21:04.577926Z",
     "iopub.status.busy": "2025-08-02T20:21:04.577471Z",
     "iopub.status.idle": "2025-08-02T20:21:04.943105Z",
     "shell.execute_reply": "2025-08-02T20:21:04.942107Z"
    },
    "papermill": {
     "duration": 0.399654,
     "end_time": "2025-08-02T20:21:04.944682",
     "exception": false,
     "start_time": "2025-08-02T20:21:04.545028",
     "status": "completed"
    },
    "tags": []
   },
   "outputs": [
    {
     "data": {
      "text/plain": [
       "<Figure size 1000x600 with 0 Axes>"
      ]
     },
     "metadata": {},
     "output_type": "display_data"
    },
    {
     "data": {
      "image/png": "[encoded data removed]",
      "text/plain": [
       "<Figure size 640x480 with 2 Axes>"
      ]
     },
     "metadata": {},
     "output_type": "display_data"
    }
   ],
   "source": [
    "plt.figure(figsize=(10,6))\n",
    "disp = ConfusionMatrixDisplay(confusion_matrix = confusion_matrix(y_test, prediction))\n",
    "disp.plot(cmap='Blues', values_format='d')\n",
    "plt.title('Confusion Matrix')\n",
    "plt.xlabel('Predicted label')\n",
    "plt.ylabel('True label')\n",
    "plt.show()"
   ]
  },
  {
   "cell_type": "markdown",
   "id": "a9c34c2a",
   "metadata": {
    "papermill": {
     "duration": 0.032599,
     "end_time": "2025-08-02T20:21:05.010264",
     "exception": false,
     "start_time": "2025-08-02T20:21:04.977665",
     "status": "completed"
    },
    "tags": []
   },
   "source": [
    "**Testing it**"
   ]
  },
  {
   "cell_type": "code",
   "execution_count": 29,
   "id": "4c5d1a6d",
   "metadata": {
    "execution": {
     "iopub.execute_input": "2025-08-02T20:21:05.077037Z",
     "iopub.status.busy": "2025-08-02T20:21:05.076676Z",
     "iopub.status.idle": "2025-08-02T20:21:05.258036Z",
     "shell.execute_reply": "2025-08-02T20:21:05.257123Z"
    },
    "papermill": {
     "duration": 0.216979,
     "end_time": "2025-08-02T20:21:05.259754",
     "exception": false,
     "start_time": "2025-08-02T20:21:05.042775",
     "status": "completed"
    },
    "tags": []
   },
   "outputs": [
    {
     "data": {
      "text/plain": [
       "<matplotlib.image.AxesImage at 0x7ff690c37710>"
      ]
     },
     "execution_count": 29,
     "metadata": {},
     "output_type": "execute_result"
    },
    {
     "data": {
      "image/png": "[encoded data removed]",
      "text/plain": [
       "<Figure size 640x480 with 1 Axes>"
      ]
     },
     "metadata": {},
     "output_type": "display_data"
    }
   ],
   "source": [
    "plt.imshow(x[2235].reshape(28,28))"
   ]
  },
  {
   "cell_type": "code",
   "execution_count": 30,
   "id": "40ffe289",
   "metadata": {
    "execution": {
     "iopub.execute_input": "2025-08-02T20:21:05.329349Z",
     "iopub.status.busy": "2025-08-02T20:21:05.328673Z",
     "iopub.status.idle": "2025-08-02T20:21:05.518801Z",
     "shell.execute_reply": "2025-08-02T20:21:05.517932Z"
    },
    "papermill": {
     "duration": 0.226394,
     "end_time": "2025-08-02T20:21:05.520506",
     "exception": false,
     "start_time": "2025-08-02T20:21:05.294112",
     "status": "completed"
    },
    "tags": []
   },
   "outputs": [
    {
     "name": "stdout",
     "output_type": "stream",
     "text": [
      "\u001b[1m1/1\u001b[0m \u001b[32m━━━━━━━━━━━━━━━━━━━━\u001b[0m\u001b[37m\u001b[0m \u001b[1m0s\u001b[0m 107ms/step\n"
     ]
    },
    {
     "data": {
      "text/plain": [
       "array([7])"
      ]
     },
     "execution_count": 30,
     "metadata": {},
     "output_type": "execute_result"
    }
   ],
   "source": [
    "pred = np.argmax(model.predict(np.expand_dims(x[2235], axis=0)), axis=1)\n",
    "pred"
   ]
  }
 ],
 "metadata": {
  "kaggle": {
   "accelerator": "none",
   "dataSources": [
    {
     "databundleVersionId": 861823,
     "sourceId": 3004,
     "sourceType": "competition"
    }
   ],
   "dockerImageVersionId": 31089,
   "isGpuEnabled": false,
   "isInternetEnabled": true,
   "language": "python",
   "sourceType": "notebook"
  },
  "kernelspec": {
   "display_name": "Python 3",
   "language": "python",
   "name": "python3"
  },
  "language_info": {
   "codemirror_mode": {
    "name": "ipython",
    "version": 3
   },
   "file_extension": ".py",
   "mimetype": "text/x-python",
   "name": "python",
   "nbconvert_exporter": "python",
   "pygments_lexer": "ipython3",
   "version": "3.11.13"
  },
  "papermill": {
   "default_parameters": {},
   "duration": 70.291867,
   "end_time": "2025-08-02T20:21:08.483898",
   "environment_variables": {},
   "exception": null,
   "input_path": "__notebook__.ipynb",
   "output_path": "__notebook__.ipynb",
   "parameters": {},
   "start_time": "2025-08-02T20:19:58.192031",
   "version": "2.6.0"
  }
 },
 "nbformat": 4,
 "nbformat_minor": 5
}
